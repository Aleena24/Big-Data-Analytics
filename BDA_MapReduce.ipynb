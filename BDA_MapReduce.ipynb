{
  "nbformat": 4,
  "nbformat_minor": 0,
  "metadata": {
    "colab": {
      "provenance": []
    },
    "kernelspec": {
      "name": "python3",
      "display_name": "Python 3"
    },
    "language_info": {
      "name": "python"
    }
  },
  "cells": [
    {
      "cell_type": "markdown",
      "source": [
        "# Importing Library"
      ],
      "metadata": {
        "id": "aStiPMdmyNRo"
      }
    },
    {
      "cell_type": "code",
      "source": [
        "from collections import defaultdict"
      ],
      "metadata": {
        "id": "fq2uJIf0tzJF"
      },
      "execution_count": 1,
      "outputs": []
    },
    {
      "cell_type": "markdown",
      "source": [
        "# Member Class"
      ],
      "metadata": {
        "id": "Xay15A68xSZ0"
      }
    },
    {
      "cell_type": "code",
      "source": [
        "class Member:\n",
        "    def __init__(self, name, age, happiness_score):\n",
        "        self.name = name\n",
        "        self.age = age\n",
        "        self.happiness_score = happiness_score\n"
      ],
      "metadata": {
        "id": "AyXYx_iKt0sG"
      },
      "execution_count": 2,
      "outputs": []
    },
    {
      "cell_type": "markdown",
      "source": [
        "# Member Data"
      ],
      "metadata": {
        "id": "5vrUEZKWxZFd"
      }
    },
    {
      "cell_type": "code",
      "source": [
        "members = [\n",
        "    Member('Bipsy', 25, 8),\n",
        "    Member('Anjalo', 30, 7),\n",
        "    Member('Aljo', 25, 6),\n",
        "    Member('Aleena', 30, 9),\n",
        "    Member('Annmariya', 35, 8),\n",
        "    Member('Alwin', 35, 7)\n",
        "]"
      ],
      "metadata": {
        "id": "dK0QGEejt5--"
      },
      "execution_count": 4,
      "outputs": []
    },
    {
      "cell_type": "markdown",
      "source": [
        "# Age Grouping and Happiness Score Yielding in Map Function"
      ],
      "metadata": {
        "id": "h2vWrsfUxjUl"
      }
    },
    {
      "cell_type": "code",
      "source": [
        "def map_function(member):\n",
        "    age_group = str(member.age // 10 * 10) + 's'\n",
        "    yield age_group, member.happiness_score"
      ],
      "metadata": {
        "id": "47NGWCu4uq9q"
      },
      "execution_count": 5,
      "outputs": []
    },
    {
      "cell_type": "markdown",
      "source": [
        "# Aggregating Happiness Scores by Age Group in Mapped Data"
      ],
      "metadata": {
        "id": "4HGHbE4Pxq1X"
      }
    },
    {
      "cell_type": "code",
      "source": [
        "mapped_data = defaultdict(list)\n",
        "for member in members:\n",
        "    for key, value in map_function(member):\n",
        "        mapped_data[key].append(value)"
      ],
      "metadata": {
        "id": "gvupBVX3uvsA"
      },
      "execution_count": 7,
      "outputs": []
    },
    {
      "cell_type": "markdown",
      "source": [
        "# Calculating Average Happiness Scores by Age Group in Reduce Function"
      ],
      "metadata": {
        "id": "FpIYtUUayD7N"
      }
    },
    {
      "cell_type": "code",
      "source": [
        "def reduce_function(age_group, happiness_scores):\n",
        "    average_score = sum(happiness_scores) / len(happiness_scores)\n",
        "    yield age_group, average_score\n"
      ],
      "metadata": {
        "id": "u495kTIfu2EY"
      },
      "execution_count": 8,
      "outputs": []
    },
    {
      "cell_type": "markdown",
      "source": [
        "# Computing Final Average Happiness Scores per Age Group"
      ],
      "metadata": {
        "id": "uMOIOXIjyJ5W"
      }
    },
    {
      "cell_type": "code",
      "execution_count": 9,
      "metadata": {
        "colab": {
          "base_uri": "https://localhost:8080/"
        },
        "id": "qaDxIHSwtqkA",
        "outputId": "361d3a10-372c-457c-fdfc-7c3f5e605907"
      },
      "outputs": [
        {
          "output_type": "stream",
          "name": "stdout",
          "text": [
            "{'20s': 7.0, '30s': 7.75}\n"
          ]
        }
      ],
      "source": [
        "result = {}\n",
        "for age_group, scores in mapped_data.items():\n",
        "    for key, value in reduce_function(age_group, scores):\n",
        "        result[key] = value\n",
        "\n",
        "print(result)"
      ]
    }
  ]
}